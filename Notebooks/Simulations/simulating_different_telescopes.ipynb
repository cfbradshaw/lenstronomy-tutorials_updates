{
 "cells": [
  {
   "cell_type": "markdown",
   "metadata": {},
   "source": [
    "# Simulating different telescopes\n",
    "This notebooks provides examples in how to use the lenstronomy.SimulationAPI modules in simulating (realistic) mock lenses taylored to a specific observation and instrument and makes a montage of different telescope settings currently available.\n",
    "\n",
    "The module enables to use the astronomical magnitude conventions and can translate those into the lenstronomy core module configurations."
   ]
  },
  {
   "cell_type": "code",
   "execution_count": 1,
   "metadata": {},
   "outputs": [],
   "source": [
    "import copy\n",
    "import os\n",
    "import numpy as np\n",
    "import scipy\n",
    "from PIL import Image\n",
    "import matplotlib.pyplot as plt\n",
    "%matplotlib inline\n",
    "\n",
    "# make sure lenstronomy is installed, otherwise install the latest pip version\n",
    "try:\n",
    "    import lenstronomy\n",
    "except:\n",
    "    !pip install lenstronomy\n",
    "\n",
    "# lenstronomy module import\n",
    "from lenstronomy.Util import image_util, data_util, util\n",
    "import lenstronomy.Plots.plot_util as plot_util\n",
    "from lenstronomy.SimulationAPI.sim_api import SimAPI\n"
   ]
  },
  {
   "cell_type": "markdown",
   "metadata": {},
   "source": [
    "## Define camera and observations\n",
    "As an example, we define the camera and observational settings of a LSST-like observation. We define one camera setting and three different observations corresponding to g,r,i imaging.\n",
    "\n",
    "For the complete list of possible settings, we refer to the SimulationAPI.observation_api classes. There are pre-configured settings which approximately mimic observations from current and future instruments. Be careful using those and check whether they are sufficiently accurate for your specific science case!"
   ]
  },
  {
   "cell_type": "code",
   "execution_count": 2,
   "metadata": {},
   "outputs": [],
   "source": [
    "# Instrument setting from pre-defined configurations\n",
    "\n",
    "from lenstronomy.SimulationAPI.ObservationConfig.DES import DES\n",
    "from lenstronomy.SimulationAPI.ObservationConfig.LSST import LSST\n",
    "from lenstronomy.SimulationAPI.ObservationConfig.Euclid import Euclid\n",
    "from lenstronomy.SimulationAPI.ObservationConfig.Roman import Roman\n",
    "\n",
    "DES_g = DES(band='g', psf_type='GAUSSIAN', coadd_years=3)\n",
    "DES_r = DES(band='r', psf_type='GAUSSIAN', coadd_years=3)\n",
    "DES_i = DES(band='i', psf_type='GAUSSIAN', coadd_years=3)\n",
    "des = [DES_g, DES_r, DES_i]\n",
    "\n",
    "LSST_g = LSST(band='g', psf_type='GAUSSIAN', coadd_years=10)\n",
    "LSST_r = LSST(band='r', psf_type='GAUSSIAN', coadd_years=10)\n",
    "LSST_i = LSST(band='i', psf_type='GAUSSIAN', coadd_years=10)\n",
    "lsst = [LSST_g, LSST_r, LSST_i]\n",
    "\n",
    "Roman_g = Roman(band='F062', psf_type='PIXEL', survey_mode='wide_area')\n",
    "Roman_r = Roman(band='F106', psf_type='PIXEL', survey_mode='wide_area')\n",
    "Roman_i = Roman(band='F184', psf_type='PIXEL', survey_mode='wide_area')\n",
    "roman = [Roman_g, Roman_r, Roman_i]\n",
    "\n",
    "# lenstronomy provides these setting to be imported with the SimulationAPI.ObservationConfig routines.\n",
    "\n"
   ]
  },
  {
   "cell_type": "markdown",
   "metadata": {},
   "source": [
    "## Import real galaxy to be the source galaxy"
   ]
  },
  {
   "cell_type": "code",
   "execution_count": 3,
   "metadata": {},
   "outputs": [
    {
     "name": "stdout",
     "output_type": "stream",
     "text": [
      "1788321.9776164324\n"
     ]
    }
   ],
   "source": [
    "# import NGC1300 jpg image and decompose it\n",
    "import imageio\n",
    "\n",
    "# find path to data\n",
    "path = os.getcwd()\n",
    "dirpath, _ = os.path.split(path)\n",
    "module_path, _ = os.path.split(dirpath)\n",
    "ngc_filename = os.path.join(module_path, 'Data/Galaxies/ngc1300.jpg')\n",
    "# read data, this only works if you execute this notebook within the environment of the github repo!\n",
    "ngc_data = imageio.imread(ngc_filename, as_gray=True, pilmode=None)\n",
    "\n",
    "# subtract the median of an edge of the image\n",
    "median = np.median(ngc_data[:200, :200])\n",
    "ngc_data -= median\n",
    "\n",
    "# resize the image to square size (add zeros at the edges of the non-square bits of the image)\n",
    "nx, ny = np.shape(ngc_data)\n",
    "n_min = min(nx, ny)\n",
    "n_max = max(nx, ny)\n",
    "ngc_square = np.zeros((n_max, n_max))\n",
    "x_start = int((n_max - nx)/2.)\n",
    "y_start = int((n_max - ny)/2.)\n",
    "ngc_square[x_start:x_start+nx, y_start:y_start+ny] = ngc_data\n",
    "\n",
    "# we slightly convolve the image with a Gaussian convolution kernel of a few pixels (optional)\n",
    "sigma = 5\n",
    "ngc_conv = scipy.ndimage.filters.gaussian_filter(ngc_square, sigma, mode='nearest', truncate=6)\n",
    "\n",
    "# we now degrate the pixel resoluton by a factor.\n",
    "# This reduces the data volume and increases the spead of the Shapelet decomposition\n",
    "factor = 25  # lower resolution of image with a given factor\n",
    "numPix_large = int(len(ngc_conv)/factor)\n",
    "n_new = int((numPix_large-1)*factor)\n",
    "ngc_cut = ngc_conv[0:n_new,0:n_new]\n",
    "x, y = util.make_grid(numPix=numPix_large-1, deltapix=1)  # make a coordinate grid\n",
    "ngc_data_resized = image_util.re_size(ngc_cut, factor)  # re-size image to lower resolution\n",
    "\n",
    "print(np.sum(ngc_data_resized))"
   ]
  },
  {
   "cell_type": "markdown",
   "metadata": {},
   "source": [
    "## Define model settings\n",
    "\n",
    "The model settings are handled by the SimulationAPI.model_api ModelAPI class. \n",
    "The role is to return instances of the lenstronomy LightModel, LensModel, PointSource modules according to the options chosen by the user. Currently, all other model choices are equivalent to the ones provided by LightModel, LensModel, PointSource.\n",
    "The current options of the class instance only describe a subset of possibilities and we refer to the specific class instances for details about all the possibilities.\n",
    "\n",
    "For this example, we chose a single lens plane and a single source plane, elliptical Sersic profile for the deflector, the interpolated Galaxy as the source and an additional lensed point source."
   ]
  },
  {
   "cell_type": "code",
   "execution_count": 4,
   "metadata": {},
   "outputs": [],
   "source": [
    "kwargs_model = {'lens_model_list': ['SIE', 'SHEAR'],  # list of lens models to be used\n",
    "                'lens_light_model_list': ['SERSIC_ELLIPSE'],  # list of unlensed light models to be used\n",
    "                'source_light_model_list': ['INTERPOL'],  # list of extended source models to be used, here we used the interpolated real galaxy\n",
    "                'point_source_model_list': ['SOURCE_POSITION']  # list of point source models to be used\n",
    "    }"
   ]
  },
  {
   "cell_type": "markdown",
   "metadata": {},
   "source": [
    "## Brightness definitions in magnitude space\n",
    "One core feature is the support of light profile amplitudes in astronomical magnitude space (at least for few selected well defined brightness profiles).\n",
    "\n",
    "We first define all parameters in magnitude space and then use the SimAPI routine to translate the arguments into lenstronomy conventions used by the ImSim module. The second model of each light component we defined as 'INTERPOL', which sets an interpolation grid given an image. This can be used to past real galaxies as lenses or sources into lenstronomy."
   ]
  },
  {
   "cell_type": "code",
   "execution_count": 13,
   "metadata": {},
   "outputs": [],
   "source": [
    "\n",
    "# g-band\n",
    "\n",
    "# lens light\n",
    "kwargs_lens_light_mag_g = [{'magnitude': 15, 'R_sersic': 1.6, 'n_sersic': 4, 'e1': 0.1, 'e2': -0.1, 'center_x': 0, 'center_y': 0}]\n",
    "# source light\n",
    "kwargs_source_mag_g = [{'magnitude': 19, 'image': ngc_data_resized, 'center_x': 0, 'center_y': 0, 'phi_G': 0, 'scale': 0.005}]\n",
    "# point source\n",
    "kwargs_ps_mag_g = [{'magnitude': 18, 'ra_source': 0.03, 'dec_source': 0}]\n",
    "\n",
    "\n",
    "\n",
    "# and now we define the colors of the other two bands\n",
    "\n",
    "# r-band\n",
    "g_r_source = 1  # color mag_g - mag_r for source\n",
    "g_r_lens = -1  # color mag_g - mag_r for lens light\n",
    "g_r_ps = 0\n",
    "kwargs_lens_light_mag_r = copy.deepcopy(kwargs_lens_light_mag_g)\n",
    "kwargs_lens_light_mag_r[0]['magnitude'] -= g_r_lens\n",
    "\n",
    "kwargs_source_mag_r = copy.deepcopy(kwargs_source_mag_g)\n",
    "kwargs_source_mag_r[0]['magnitude'] -= g_r_source\n",
    "\n",
    "kwargs_ps_mag_r = copy.deepcopy(kwargs_ps_mag_g)\n",
    "kwargs_ps_mag_r[0]['magnitude'] -= g_r_ps\n",
    "\n",
    "\n",
    "# i-band\n",
    "g_i_source = 2\n",
    "g_i_lens = -2\n",
    "g_i_ps = 0\n",
    "kwargs_lens_light_mag_i = copy.deepcopy(kwargs_lens_light_mag_g)\n",
    "kwargs_lens_light_mag_i[0]['magnitude'] -= g_i_lens\n",
    "\n",
    "kwargs_source_mag_i = copy.deepcopy(kwargs_source_mag_g)\n",
    "kwargs_source_mag_i[0]['magnitude'] -= g_i_source\n",
    "\n",
    "kwargs_ps_mag_i = copy.deepcopy(kwargs_ps_mag_g)\n",
    "kwargs_ps_mag_i[0]['magnitude'] -= g_i_ps\n"
   ]
  },
  {
   "cell_type": "markdown",
   "metadata": {},
   "source": [
    "## setting lens model parameters\n",
    "And finally we need a lens model. The default lensing units are in observed deflection angle (arc seconds) mapping the image to the source plane (reduced angles). In a single lens and single source plane model, this is all we need to specify and no futher cosmology is required."
   ]
  },
  {
   "cell_type": "code",
   "execution_count": 14,
   "metadata": {},
   "outputs": [],
   "source": [
    "kwargs_lens = [\n",
    "    {'theta_E': 1.2, 'e1': 0.4, 'e2': -0.1, 'center_x': 0, 'center_y': 0},  # SIE model\n",
    "    {'gamma1': 0.03, 'gamma2': 0.01, 'ra_0': 0, 'dec_0': 0}  # SHEAR model\n",
    "]\n"
   ]
  },
  {
   "cell_type": "markdown",
   "metadata": {},
   "source": [
    "## simluate image\n",
    "Finally we can simulate the images with the ImageModel class instance and the lenstronomy parameters for the different bands. Note that in the specific example we included a point source (representing a quasar) in the center of the lensed galaxy. The SimulationAPI supports various options. Further down below we simulate multi-lens multi-source plane configurations too."
   ]
  },
  {
   "cell_type": "code",
   "execution_count": 16,
   "metadata": {},
   "outputs": [
    {
     "data": {
      "image/png": "[encoded data removed]",
      "text/plain": [
       "<Figure size 864x288 with 3 Axes>"
      ]
     },
     "metadata": {
      "needs_background": "light"
     },
     "output_type": "display_data"
    }
   ],
   "source": [
    "numpix = 64  # number of pixels per axis of the image to be modelled\n",
    "\n",
    "# here we define the numerical options used in the ImSim module. \n",
    "# Have a look at the ImageNumerics class for detailed descriptions.\n",
    "# If not further specified, the default settings are used.\n",
    "kwargs_numerics = {'point_source_supersampling_factor': 1}\n",
    "\n",
    "\n",
    "def simulate_rgb(ConfigList, size, kwargs_numerics):\n",
    "    band_b, band_g, band_r = ConfigList\n",
    "    kwargs_b_band = band_b.kwargs_single_band()\n",
    "    kwargs_g_band = band_g.kwargs_single_band()\n",
    "    kwargs_r_band = band_r.kwargs_single_band()\n",
    "    \n",
    "    # set number of pixels from pixel scale\n",
    "    pixel_scale = kwargs_g_band['pixel_scale']\n",
    "    numpix = int(round(size / pixel_scale))\n",
    "\n",
    "    sim_b = SimAPI(numpix=numpix, kwargs_single_band=kwargs_b_band, kwargs_model=kwargs_model)\n",
    "    sim_g = SimAPI(numpix=numpix, kwargs_single_band=kwargs_g_band, kwargs_model=kwargs_model)\n",
    "    sim_r = SimAPI(numpix=numpix, kwargs_single_band=kwargs_r_band, kwargs_model=kwargs_model)\n",
    "\n",
    "    # return the ImSim instance. With this class instance, you can compute all the\n",
    "    # modelling accessible of the core modules. See class documentation and other notebooks.\n",
    "    imSim_b = sim_b.image_model_class(kwargs_numerics)\n",
    "    imSim_g = sim_g.image_model_class(kwargs_numerics)\n",
    "    imSim_r = sim_r.image_model_class(kwargs_numerics)\n",
    "\n",
    "\n",
    "    # turn magnitude kwargs into lenstronomy kwargs\n",
    "    kwargs_lens_light_g, kwargs_source_g, kwargs_ps_g = sim_b.magnitude2amplitude(kwargs_lens_light_mag_g, kwargs_source_mag_g, kwargs_ps_mag_g)\n",
    "    kwargs_lens_light_r, kwargs_source_r, kwargs_ps_r = sim_g.magnitude2amplitude(kwargs_lens_light_mag_r, kwargs_source_mag_r, kwargs_ps_mag_r)\n",
    "    kwargs_lens_light_i, kwargs_source_i, kwargs_ps_i = sim_r.magnitude2amplitude(kwargs_lens_light_mag_i, kwargs_source_mag_i, kwargs_ps_mag_i)\n",
    "\n",
    "\n",
    "    image_b = imSim_b.image(kwargs_lens, kwargs_source_g, kwargs_lens_light_g, kwargs_ps_g)\n",
    "    image_g = imSim_g.image(kwargs_lens, kwargs_source_r, kwargs_lens_light_r, kwargs_ps_r)\n",
    "    image_r = imSim_r.image(kwargs_lens, kwargs_source_i, kwargs_lens_light_i, kwargs_ps_i)\n",
    "\n",
    "    # add noise\n",
    "    image_b += sim_b.noise_for_model(model=image_b)\n",
    "    image_g += sim_g.noise_for_model(model=image_g)\n",
    "    image_r += sim_r.noise_for_model(model=image_r)\n",
    "\n",
    "    # and plot it\n",
    "\n",
    "    img = np.zeros((image_g.shape[0], image_g.shape[1], 3), dtype=float)\n",
    "    #scale_max=10000\n",
    "    def _scale_max(image): \n",
    "        flat=image.flatten()\n",
    "        flat.sort()\n",
    "        scale_max = flat[int(len(flat)*0.95)]\n",
    "        return scale_max\n",
    "    img[:,:,0] = plot_util.sqrt(image_b, scale_min=0, scale_max=_scale_max(image_b))\n",
    "    img[:,:,1] = plot_util.sqrt(image_g, scale_min=0, scale_max=_scale_max(image_g))\n",
    "    img[:,:,2] = plot_util.sqrt(image_r, scale_min=0, scale_max=_scale_max(image_r))\n",
    "    data_class = sim_b.data_class\n",
    "    return img, data_class\n",
    "\n",
    "size = 6. # width of the image in units of arc seconds\n",
    "\n",
    "img_des, coords_des = simulate_rgb(des, size=size, kwargs_numerics=kwargs_numerics)\n",
    "img_lsst, coords_lss = simulate_rgb(lsst, size=size, kwargs_numerics=kwargs_numerics)\n",
    "img_roman, coords_roman = simulate_rgb(roman, size=size, kwargs_numerics=kwargs_numerics)\n",
    "\n",
    "from lenstronomy.Plots.plot_util import coordinate_arrows, scale_bar\n",
    "\n",
    "f, axes = plt.subplots(1, 3, figsize=(12, 4))\n",
    "\n",
    "ax = axes[0]\n",
    "ax.imshow(img_des, aspect='equal', origin='lower', extent=[0, size, 0, size])\n",
    "ax.set_title('DES')\n",
    "# coordinate_arrows(ax, d=1, coords=coords_des, color='w', font_size=15, arrow_size=0.05)\n",
    "scale_bar(ax, d=size, dist=1., text='1\"', color='w', font_size=15, flipped=False)\n",
    "\n",
    "ax = axes[1]\n",
    "ax.imshow(img_lsst, aspect='equal', origin='lower', extent=[0, size, 0, size])\n",
    "ax.set_title('LSST')\n",
    "scale_bar(ax, d=size, dist=1., text='1\"', color='w', font_size=15, flipped=False)\n",
    "\n",
    "ax = axes[2]\n",
    "ax.imshow(img_roman, aspect='equal', origin='lower', extent=[0, size, 0, size])\n",
    "ax.set_title('Roman')\n",
    "scale_bar(ax, d=size, dist=1., text='1\"', color='w', font_size=15, flipped=False)\n",
    "plt.show()"
   ]
  },
  {
   "cell_type": "code",
   "execution_count": null,
   "metadata": {},
   "outputs": [],
   "source": []
  }
 ],
 "metadata": {
  "kernelspec": {
   "display_name": "Python 3",
   "language": "python",
   "name": "python3"
  },
  "language_info": {
   "codemirror_mode": {
    "name": "ipython",
    "version": 3
   },
   "file_extension": ".py",
   "mimetype": "text/x-python",
   "name": "python",
   "nbconvert_exporter": "python",
   "pygments_lexer": "ipython3",
   "version": "3.6.9"
  }
 },
 "nbformat": 4,
 "nbformat_minor": 2
}
