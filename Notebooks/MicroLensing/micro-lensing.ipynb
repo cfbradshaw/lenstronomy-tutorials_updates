{
 "cells": [
  {
   "cell_type": "markdown",
   "id": "5f23d9b4",
   "metadata": {},
   "source": [
    "# Stellar micro-lensing simulation\n",
    "\n",
    "In this notebook, we simulate and animate stellar micro-lensing events.\n",
    "Lentstronomy does not perform any approximations to speed up the calculation and is capable to compute micro-lensing events of arbitrary complexities"
   ]
  },
  {
   "cell_type": "code",
   "execution_count": 20,
   "id": "ed3976da",
   "metadata": {},
   "outputs": [],
   "source": [
    "import matplotlib.pyplot as plt\n",
    "%matplotlib inline\n",
    "import numpy as np\n",
    "\n",
    "from lenstronomy.Cosmo.micro_lensing import einstein_radius, source_size\n",
    "from lenstronomy.Util import util\n",
    "from lenstronomy.LensModel.lens_model import LensModel\n",
    "from lenstronomy.LightModel.light_model import LightModel"
   ]
  },
  {
   "cell_type": "markdown",
   "id": "efdbc9d2",
   "metadata": {},
   "source": [
    "## Single lens"
   ]
  },
  {
   "cell_type": "code",
   "execution_count": 21,
   "id": "0c87b1d9",
   "metadata": {},
   "outputs": [],
   "source": [
    "# define the microlens\n",
    "\n",
    "# =========\n",
    "# distances\n",
    "# =========\n",
    "\n",
    "d_l = 4000  # distance of the lens in pc\n",
    "d_s = 8000  # distance of the source in pc\n",
    "\n",
    "# ===========\n",
    "# lens system\n",
    "# ===========\n",
    "\n",
    "M0 = 0.01  # mass of the main lens in units of M_sol\n",
    "# (mass is choosen relatively small such that the numerical ray-tracing is efficient)\n",
    "\n",
    "\n",
    "# ===========\n",
    "# source size\n",
    "# ===========\n",
    "\n",
    "diameter_s = 1  # size of the radius of the source star in units of the solar radius\n"
   ]
  },
  {
   "cell_type": "code",
   "execution_count": 22,
   "id": "762f9c65",
   "metadata": {},
   "outputs": [
    {
     "name": "stdout",
     "output_type": "stream",
     "text": [
      "0.00010090910723578977 Einstein radius [arc seconds]\n",
      "1.163118159836867e-06 source size [arc seconds]\n"
     ]
    }
   ],
   "source": [
    "# compute lensing properties\n",
    "\n",
    "theta_E = einstein_radius(M0, d_l, d_s)\n",
    "print(theta_E, 'Einstein radius [arc seconds]')\n",
    "\n",
    "size_s = source_size(diameter_s, d_s)\n",
    "print(size_s, 'source size [arc seconds]')\n"
   ]
  },
  {
   "cell_type": "code",
   "execution_count": 23,
   "id": "4bf53df0",
   "metadata": {},
   "outputs": [
    {
     "name": "stdout",
     "output_type": "stream",
     "text": [
      "1388 number of pixels per axis\n"
     ]
    }
   ],
   "source": [
    "# compute ray-tracing grid\n",
    "\n",
    "grid_scale = size_s / 4.  # ten times the source size resolution\n",
    "grid_width = theta_E * 4\n",
    "num_pix = int(grid_width / grid_scale)\n",
    "print(num_pix, \"number of pixels per axis\")\n",
    "\n",
    "x, y = util.make_grid(numPix=num_pix, deltapix=grid_scale)"
   ]
  },
  {
   "cell_type": "code",
   "execution_count": 30,
   "id": "673f797c",
   "metadata": {},
   "outputs": [
    {
     "name": "stdout",
     "output_type": "stream",
     "text": [
      "4.095056685754468 image magnification\n"
     ]
    }
   ],
   "source": [
    "# map image to source plane\n",
    "lens = LensModel(lens_model_list=['POINT_MASS'])\n",
    "kwargs_lens = [{'theta_E': theta_E, 'center_x': 0, 'center_y': 0}]\n",
    "\n",
    "beta_x, beta_y = lens.ray_shooting(x, y, kwargs=kwargs_lens)\n",
    "\n",
    "# compute surface brightness\n",
    "ligth = LightModel(light_model_list=['ELLIPSOID'])\n",
    "kwargs_light = [{'amp': 1, 'radius': size_s/2 * 10, 'e1': 0, 'e2': 0, 'center_x': 0 + theta_E/4, 'center_y': 0}]\n",
    "surface_brightness = ligth.surface_brightness(beta_x, beta_y, kwargs_light)\n",
    "\n",
    "# calculate image magnification as integral of the surface brightness \n",
    "# ('amp'=1 is normalized such that intrinsic flux=1)\n",
    "\n",
    "mag = np.sum(surface_brightness * grid_scale**2)\n",
    "print(mag, \"image magnification\")\n",
    "\n",
    "# turn 1d array into 2d image\n",
    "image = util.array2image(surface_brightness)\n"
   ]
  },
  {
   "cell_type": "code",
   "execution_count": 31,
   "id": "c431dd30",
   "metadata": {},
   "outputs": [
    {
     "data": {
      "image/png": "[encoded data removed]",
      "text/plain": [
       "<Figure size 640x480 with 1 Axes>"
      ]
     },
     "metadata": {},
     "output_type": "display_data"
    }
   ],
   "source": [
    "plt.imshow(image, extent = [-grid_width/2, grid_width/2, -grid_width/2, grid_width/2])\n",
    "plt.xlabel(r'$\\mu$as')\n",
    "plt.ylabel(r'$\\mu$as')\n",
    "plt.show()"
   ]
  },
  {
   "cell_type": "markdown",
   "id": "5713a620",
   "metadata": {},
   "source": [
    "## Binary lens"
   ]
  },
  {
   "cell_type": "code",
   "execution_count": 32,
   "id": "bf4768f3",
   "metadata": {},
   "outputs": [
    {
     "name": "stdout",
     "output_type": "stream",
     "text": [
      "0.00010090910723578977 Einstein radius [arc seconds]\n"
     ]
    }
   ],
   "source": [
    "# define secondary lens\n",
    "\n",
    "M1 = 0.01  # secondary mass of the lens\n",
    "d_01 = 1  # distance of M0 to M1 in units of AU\n",
    "\n",
    "theta_E1 = einstein_radius(M1, d_l, d_s)\n",
    "print(theta_E1, 'Einstein radius [arc seconds]')"
   ]
  },
  {
   "cell_type": "code",
   "execution_count": 33,
   "id": "22986947",
   "metadata": {},
   "outputs": [
    {
     "name": "stdout",
     "output_type": "stream",
     "text": [
      "16.211522503340458 image magnification\n"
     ]
    }
   ],
   "source": [
    "# map image to source plane\n",
    "lens_binary = LensModel(lens_model_list=['POINT_MASS', 'POINT_MASS'])\n",
    "kwargs_lens_binary = [{'theta_E': theta_E, 'center_x': 0, 'center_y': 0},\n",
    "               {'theta_E': theta_E1, 'center_x': 0.0001, 'center_y': 0}]\n",
    "\n",
    "beta_x, beta_y = lens_binary.ray_shooting(x, y, kwargs=kwargs_lens_binary)\n",
    "surface_brightness_binary = ligth.surface_brightness(beta_x, beta_y, kwargs_light)\n",
    "\n",
    "# calculate image magnification as integral of the surface brightness \n",
    "# ('amp'=1 is normalized such that intrinsic flux=1)\n",
    "\n",
    "mag = np.sum(surface_brightness_binary * grid_scale**2)\n",
    "print(mag, \"image magnification\")\n",
    "\n",
    "# turn 1d array into 2d image\n",
    "image = util.array2image(surface_brightness_binary)\n"
   ]
  },
  {
   "cell_type": "code",
   "execution_count": 34,
   "id": "9d8b8ba0",
   "metadata": {},
   "outputs": [
    {
     "data": {
      "image/png": "[encoded data removed]",
      "text/plain": [
       "<Figure size 640x480 with 1 Axes>"
      ]
     },
     "metadata": {},
     "output_type": "display_data"
    }
   ],
   "source": [
    "plt.imshow(image, extent = [-grid_width/2, grid_width/2, -grid_width/2, grid_width/2])\n",
    "plt.xlabel(r'mas')\n",
    "plt.ylabel(r'mas')\n",
    "plt.show()"
   ]
  },
  {
   "cell_type": "code",
   "execution_count": null,
   "id": "8e0b985b",
   "metadata": {},
   "outputs": [],
   "source": []
  }
 ],
 "metadata": {
  "kernelspec": {
   "display_name": "Python [conda env:lenstronomy] *",
   "language": "python",
   "name": "conda-env-lenstronomy-py"
  },
  "language_info": {
   "codemirror_mode": {
    "name": "ipython",
    "version": 3
   },
   "file_extension": ".py",
   "mimetype": "text/x-python",
   "name": "python",
   "nbconvert_exporter": "python",
   "pygments_lexer": "ipython3",
   "version": "3.9.7"
  }
 },
 "nbformat": 4,
 "nbformat_minor": 5
}
